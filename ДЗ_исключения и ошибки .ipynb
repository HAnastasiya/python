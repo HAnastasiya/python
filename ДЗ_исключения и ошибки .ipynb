{
 "cells": [
  {
   "cell_type": "code",
   "execution_count": 35,
   "metadata": {},
   "outputs": [
    {
     "ename": "SyntaxError",
     "evalue": "invalid syntax (<ipython-input-35-6b07f7d2d900>, line 2)",
     "output_type": "error",
     "traceback": [
      "\u001b[1;36m  File \u001b[1;32m\"<ipython-input-35-6b07f7d2d900>\"\u001b[1;36m, line \u001b[1;32m2\u001b[0m\n\u001b[1;33m    The Moscow Times - Wednesday, October 2, 2002\u001b[0m\n\u001b[1;37m        ^\u001b[0m\n\u001b[1;31mSyntaxError\u001b[0m\u001b[1;31m:\u001b[0m invalid syntax\n"
     ]
    }
   ],
   "source": [
    "#Задание_1\n",
    "The Moscow Times - Wednesday, October 2, 2002\n",
    "The Guardian - Friday, 11.10.13\n",
    "Daily News - Thursday, 18 August 1977\n"
   ]
  },
  {
   "cell_type": "code",
   "execution_count": 29,
   "metadata": {},
   "outputs": [
    {
     "name": "stdout",
     "output_type": "stream",
     "text": [
      "3 2002-10-02 00:00:00\n"
     ]
    }
   ],
   "source": [
    "from datetime import datetime\n",
    "a=datetime.strptime('Wednesday, October 2, 2002','%A, %B %d, %Y')\n",
    "print(a.isoweekday(),a)"
   ]
  },
  {
   "cell_type": "code",
   "execution_count": 30,
   "metadata": {},
   "outputs": [
    {
     "name": "stdout",
     "output_type": "stream",
     "text": [
      "5 2013-10-11 00:00:00\n"
     ]
    }
   ],
   "source": [
    "b=datetime.strptime('Friday, 11.10.13','%A, %d.%m.%y')\n",
    "print(b.isoweekday(),b)"
   ]
  },
  {
   "cell_type": "code",
   "execution_count": 31,
   "metadata": {},
   "outputs": [
    {
     "name": "stdout",
     "output_type": "stream",
     "text": [
      "4 1977-08-18 00:00:00\n"
     ]
    }
   ],
   "source": [
    "c=datetime.strptime('Thursday, 18 August 1977','%A, %d %B %Y')\n",
    "print(c.isoweekday(),c)"
   ]
  },
  {
   "cell_type": "code",
   "execution_count": 47,
   "metadata": {},
   "outputs": [
    {
     "name": "stdout",
     "output_type": "stream",
     "text": [
      "True 2018-04-02\n",
      "False 2018-02-29\n",
      "False 2018-19-02\n"
     ]
    }
   ],
   "source": [
    "#Задание_2\n",
    "from datetime import datetime\n",
    "stream = ['2018-04-02', '2018-02-29', '2018-19-02']\n",
    "def normal_date():\n",
    "    for dates in stream:\n",
    "        try:\n",
    "            datetime.strptime(dates,'%Y-%m-%d')\n",
    "            print(True,dates)\n",
    "        except:\n",
    "            print(False,dates)  \n",
    "normal_date()     "
   ]
  },
  {
   "cell_type": "code",
   "execution_count": 3,
   "metadata": {
    "scrolled": true
   },
   "outputs": [
    {
     "name": "stdout",
     "output_type": "stream",
     "text": [
      "[]\n"
     ]
    }
   ],
   "source": [
    "#Задание_3\n",
    "from datetime import datetime\n",
    "from datetime import timedelta\n",
    "def date_range():\n",
    "    try:\n",
    "        start_date=datetime.strptime(input('Введите дату начала:'),'%Y-%m-%d')\n",
    "        end_date=datetime.strptime('2020-01-21','%Y-%m-%d')\n",
    "        delta=end_date-start_date\n",
    "        if start_date<end_date:\n",
    "            for curr_date in range(delta.days-1):\n",
    "                print(start_date+timedelta(days=curr_date+1))\n",
    "        else:\n",
    "            print([])\n",
    "    except:\n",
    "        print([])\n",
    "date_range()       "
   ]
  },
  {
   "cell_type": "code",
   "execution_count": 7,
   "metadata": {},
   "outputs": [
    {
     "name": "stdout",
     "output_type": "stream",
     "text": [
      "Введите дату начала:2020-01-13\n",
      "2020-01-14 00:00:00\n",
      "2020-01-15 00:00:00\n",
      "2020-01-16 00:00:00\n",
      "2020-01-17 00:00:00\n",
      "2020-01-18 00:00:00\n",
      "2020-01-19 00:00:00\n",
      "2020-01-20 00:00:00\n"
     ]
    }
   ],
   "source": [
    "date_range()   "
   ]
  },
  {
   "cell_type": "code",
   "execution_count": null,
   "metadata": {},
   "outputs": [],
   "source": []
  }
 ],
 "metadata": {
  "kernelspec": {
   "display_name": "Python 3",
   "language": "python",
   "name": "python3"
  }
 },
 "nbformat": 4,
 "nbformat_minor": 4
}
