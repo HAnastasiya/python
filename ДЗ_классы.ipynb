{
 "cells": [
  {
   "cell_type": "code",
   "execution_count": 32,
   "metadata": {},
   "outputs": [
    {
     "name": "stdout",
     "output_type": "stream",
     "text": [
      "Австралийский доллар 0.5464000000000055\n",
      "Азербайджанский манат 0.5838999999999999\n",
      "Фунт стерлингов Соединенного королевства 1.0475999999999885\n",
      "Армянских драмов 0.17999999999999972\n",
      "Белорусский рубль 0.2815999999999974\n",
      "Болгарский лев 0.7608000000000033\n",
      "Бразильский реал 0.03229999999999933\n",
      "Венгерских форинтов 0.4146000000000001\n",
      "Гонконгских долларов 1.2785999999999973\n",
      "Датская крона 0.19589999999999996\n",
      "Доллар США 0.9921000000000078\n",
      "Евро 1.4410000000000025\n",
      "Индийских рупий 0.12340000000000018\n",
      "Казахстанских тенге 0.16310000000000002\n",
      "Канадский доллар 0.49790000000000134\n",
      "Киргизских сомов 1.4598000000000013\n",
      "Китайский юань 0.12929999999999886\n",
      "Молдавских леев 0.5792000000000002\n",
      "Норвежских крон 1.116500000000002\n",
      "Польский злотый 0.3094999999999999\n",
      "Румынский лей 0.29739999999999966\n",
      "СДР (специальные права заимствования) 1.5910999999999973\n",
      "Сингапурский доллар 0.6516999999999982\n",
      "Таджикских сомони 0.870599999999996\n",
      "Турецкая лира -89.2727\n",
      "Новый туркменский манат 0.2837999999999994\n",
      "Узбекских сумов 0.9448000000000008\n",
      "Украинских гривен 0.43019999999999925\n",
      "Чешских крон 0.5855999999999995\n",
      "Шведских крон 1.5966000000000093\n",
      "Швейцарский франк 1.4368999999999943\n",
      "Южноафриканских рэндов -0.059499999999999886\n",
      "Вон Республики Корея 0.555800000000005\n",
      "Японских иен 0.8958999999999975\n"
     ]
    }
   ],
   "source": [
    "#Задание_1 \n",
    "import requests\n",
    "def curr():\n",
    "    \n",
    "    full_data=requests.get('https://www.cbr-xml-daily.ru/daily_json.js').json()\n",
    "    \n",
    "    \n",
    "    for x in full_data['Valute'].values():\n",
    "        f=[]\n",
    "        f+=x.values()\n",
    "        print(f[4],max(f[5],f[6]))\n",
    "curr()"
   ]
  },
  {
   "cell_type": "code",
   "execution_count": 133,
   "metadata": {},
   "outputs": [
    {
     "data": {
      "text/plain": [
       "0.9921000000000078"
      ]
     },
     "execution_count": 133,
     "metadata": {},
     "output_type": "execute_result"
    }
   ],
   "source": [
    "#Задание_2\n",
    "import requests\n",
    "class Rate:\n",
    "    def __init__(self, format='value',diff=True):\n",
    "        self.format = format\n",
    "        self.diff = diff\n",
    "    def exchange_rates(self):\n",
    "        \"\"\"\n",
    "        Возвращает ответ сервиса с информацией о валютах в виде:\n",
    "        \n",
    "        {\n",
    "            'AMD': {\n",
    "                'CharCode': 'AMD',\n",
    "                'ID': 'R01060',\n",
    "                'Name': 'Армянских драмов',\n",
    "                'Nominal': 100,\n",
    "                'NumCode': '051',\n",
    "                'Previous': 14.103,\n",
    "                'Value': 14.0879\n",
    "                },\n",
    "            ...\n",
    "        }\n",
    "        \"\"\"\n",
    "        r = requests.get('https://www.cbr-xml-daily.ru/daily_json.js')\n",
    "        return r.json()['Valute']\n",
    "    \n",
    "    def make_format(self,currency):\n",
    "        \"\"\"\n",
    "        Возвращает информацию о валюте currency в двух вариантах:\n",
    "        - полная информация о валюте при self.format = 'full':\n",
    "        Rate('full').make_format('EUR')\n",
    "        {\n",
    "            'CharCode': 'EUR',\n",
    "            'ID': 'R01239',\n",
    "            'Name': 'Евро',\n",
    "            'Nominal': 1,\n",
    "            'NumCode': '978',\n",
    "            'Previous': 79.6765,\n",
    "            'Value': 79.4966\n",
    "        }\n",
    "        \n",
    "        Rate('value').make_format('EUR')\n",
    "        79.4966\n",
    "        \"\"\"\n",
    "        response = self.exchange_rates()\n",
    "        \n",
    "        if currency in response:\n",
    "            if self.format == 'full':\n",
    "                return response[currency]\n",
    "            if self.format == 'value' and self.diff  == False:\n",
    "                return response[currency]['Value']\n",
    "            if self.format == 'value' and self.diff  == True:\n",
    "                return response[currency]['Value']-response[currency]['Previous']\n",
    "        \n",
    "        return 'Error'\n",
    "    \n",
    "    def eur(self):\n",
    "        \"\"\"Возвращает курс евро на сегодня в формате self.format\"\"\"\n",
    "        return self.make_format('EUR')\n",
    "    \n",
    "    \n",
    "    def usd(self):\n",
    "        \"\"\"Возвращает курс доллара на сегодня в формате self.format\"\"\"\n",
    "        return self.make_format('USD')\n",
    "\n",
    "    def AZN(self):\n",
    "        \"\"\"Возвращает курс азербайджанского маната на сегодня в формате self.format\"\"\"\n",
    "        return self.make_format('AZN')\n",
    "        \n",
    "r=Rate(format='value',diff=True)\n",
    "r.usd()\n"
   ]
  },
  {
   "cell_type": "code",
   "execution_count": 8,
   "metadata": {},
   "outputs": [],
   "source": [
    "class Employee:\n",
    "    def __init__(self,name,seniority):\n",
    "        self.name = name\n",
    "        self.seniority = seniority #должность\n",
    "       \n",
    "        \n",
    "        self.grade = 1\n",
    "        \n",
    "    def grade_up(self):\n",
    "        self.grade += 1\n",
    "    \n",
    "    def puplish_grade(self):\n",
    "        print(self.name,self.grade)\n",
    "        \n",
    "    def check_if_it_is_time_for_upgrade(self):\n",
    "        \n",
    "        pass\n",
    " \n",
    "   "
   ]
  },
  {
   "cell_type": "code",
   "execution_count": 9,
   "metadata": {},
   "outputs": [],
   "source": [
    "class Developer(Employee):\n",
    "    def __init__(self,name,seniority):\n",
    "        super().__init__(name,seniority)\n",
    "   \n",
    "    def check_if_it_is_time_for_upgrade(self):\n",
    "        self.seniority += 1\n",
    "        \n",
    "        if self.seniority % 5 == 0:\n",
    "            self.grade_up()\n",
    "            \n",
    "        return self.puplish_grade()"
   ]
  },
  {
   "cell_type": "code",
   "execution_count": 114,
   "metadata": {},
   "outputs": [],
   "source": [
    "class Designer(Employee):\n",
    "    def __init__(self,name,seniority):\n",
    "        super().__init__(name,seniority)\n",
    "        \n",
    "        \n",
    "        self.awards=5\n",
    "        \n",
    "    def check_if_it_is_time_for_upgrade(self):\n",
    "        \n",
    "        self.seniority += self.awards*2+1\n",
    "        \n",
    "        if self.seniority % 7 == 0:\n",
    "            self.grade_up()\n",
    "         \n",
    "            \n",
    "        return self.puplish_grade()"
   ]
  },
  {
   "cell_type": "code",
   "execution_count": 115,
   "metadata": {},
   "outputs": [],
   "source": [
    "vika = Designer('Вика',0)\n"
   ]
  },
  {
   "cell_type": "code",
   "execution_count": 116,
   "metadata": {},
   "outputs": [
    {
     "name": "stdout",
     "output_type": "stream",
     "text": [
      "Вика 1\n",
      "Вика 1\n",
      "Вика 1\n",
      "Вика 1\n",
      "Вика 1\n",
      "Вика 1\n",
      "Вика 2\n",
      "Вика 2\n",
      "Вика 2\n",
      "Вика 2\n",
      "Вика 2\n",
      "Вика 2\n",
      "Вика 2\n",
      "Вика 3\n",
      "Вика 3\n",
      "Вика 3\n",
      "Вика 3\n",
      "Вика 3\n",
      "Вика 3\n",
      "Вика 3\n"
     ]
    }
   ],
   "source": [
    "for i in range(20):\n",
    "    vika.check_if_it_is_time_for_upgrade()"
   ]
  },
  {
   "cell_type": "code",
   "execution_count": null,
   "metadata": {},
   "outputs": [],
   "source": []
  },
  {
   "cell_type": "code",
   "execution_count": null,
   "metadata": {},
   "outputs": [],
   "source": []
  }
 ],
 "metadata": {
  "kernelspec": {
   "display_name": "Python 3",
   "language": "python",
   "name": "python3"
  },
  "language_info": {
   "codemirror_mode": {
    "name": "ipython",
    "version": 3
   },
   "file_extension": ".py",
   "mimetype": "text/x-python",
   "name": "python",
   "nbconvert_exporter": "python",
   "pygments_lexer": "ipython3",
   "version": "3.8.5"
  }
 },
 "nbformat": 4,
 "nbformat_minor": 4
}
