{
 "cells": [
  {
   "cell_type": "code",
   "execution_count": 1391,
   "metadata": {},
   "outputs": [
    {
     "name": "stdout",
     "output_type": "stream",
     "text": [
      "{98, 35, 15, 213, 54, 119}\n"
     ]
    }
   ],
   "source": [
    "#Task_1\n",
    "vocab = {\n",
    "'user1': [213,213,213,15,213],\n",
    "'user2': [54,54,119,119,119],\n",
    "'user3': [213,98,35]\n",
    "}\n",
    "y=[]\n",
    "y.append([(z) for z in vocab.values()])\n",
    "print(set(sum(y[0],[])))\n",
    "              "
   ]
  },
  {
   "cell_type": "code",
   "execution_count": 1692,
   "metadata": {},
   "outputs": [
    {
     "name": "stdout",
     "output_type": "stream",
     "text": [
      "Запросов,содержащих 2 слова: 42.86%\n",
      "Запросов,содержащих 3 слова: 57.14%\n"
     ]
    }
   ],
   "source": [
    "#Task_2\n",
    "queries=['смотреть сериалы онлайн',\n",
    "        'новости спорта',\n",
    "        'афиша кино',\n",
    "        'курс доллара',\n",
    "        'сериалы этим летом',\n",
    "        'курс по питону',\n",
    "        'сериалы про спорт']\n",
    "\n",
    "total=len([len(i.split(' ')) for i in queries])\n",
    "[len(i.split(' ')) for i in queries].count(2)\n",
    "[len(i.split(' ')) for i in queries].count(3)\n",
    "\n",
    "print (F\"Запросов,содержащих 2 слова: {[len(i.split(' ')) for i in queries].count(2)*100/total:.2f}%\")\n",
    "print (F\"Запросов,содержащих 3 слова: {[len(i.split(' ')) for i in queries].count(3)*100/total:.2f}%\")\n",
    "\n",
    "    \n",
    "    "
   ]
  },
  {
   "cell_type": "code",
   "execution_count": 1970,
   "metadata": {},
   "outputs": [
    {
     "name": "stdout",
     "output_type": "stream",
     "text": [
      "Запросов,содержащих 3 слова: 57.14%\n",
      "Запросов,содержащих 2 слова: 42.86%\n"
     ]
    }
   ],
   "source": [
    "#Task_2_new\n",
    "import collections\n",
    "queries=['смотреть сериалы онлайн',\n",
    "        'новости сорта',\n",
    "        'афиша кино',\n",
    "        'курс доллара',\n",
    "        'сериалы этим летом',\n",
    "        'курс по питону',\n",
    "        'сериалы про спорт']\n",
    "b=[len(t.split(' ')) for t in queries]#список длин\n",
    "mn=list(set([len(t.split(' ')) for t in queries]))#список \"2,3\"\n",
    "total=len([z.split(' ') for z in queries])#всего 7\n",
    "count=collections.Counter()\n",
    "for s in b:\n",
    "    count[s] += 1\n",
    "b=dict(count)\n",
    "for key,value in b.items():\n",
    "    print (f\"Запросов,содержащих {key} слова: {value*100/total:.2f}%\")\n",
    "      \n"
   ]
  },
  {
   "cell_type": "code",
   "execution_count": null,
   "metadata": {},
   "outputs": [],
   "source": []
  },
  {
   "cell_type": "code",
   "execution_count": 2036,
   "metadata": {},
   "outputs": [
    {
     "name": "stdout",
     "output_type": "stream",
     "text": [
      "{'revenue': 103, 'cost': 98, 'ROI': [5.1, 16.99, -6.36, 2.94, -54.17]}\n",
      "{'revenue': 179, 'cost': 153, 'ROI': [5.1, 16.99, -6.36, 2.94, -54.17]}\n",
      "{'revenue': 103, 'cost': 110, 'ROI': [5.1, 16.99, -6.36, 2.94, -54.17]}\n",
      "{'revenue': 35, 'cost': 34, 'ROI': [5.1, 16.99, -6.36, 2.94, -54.17]}\n",
      "{'revenue': 11, 'cost': 24, 'ROI': [5.1, 16.99, -6.36, 2.94, -54.17]}\n"
     ]
    }
   ],
   "source": [
    "#Task_3\n",
    "results = {\n",
    "'vk': {'revenue': 103, 'cost': 98},\n",
    "'yandex': {'revenue': 179, 'cost': 153},\n",
    "'facebook': {'revenue': 103, 'cost': 110},\n",
    "'adwords': {'revenue': 35, 'cost': 34},\n",
    "'twitter': {'revenue': 11, 'cost': 24},\n",
    "}\n",
    "ROI=[round((x['revenue']/(x['cost'])-1)*100,2) for x in results.values()]\n",
    "for info in results.values():\n",
    "    info['ROI']=ROI\n",
    "    print(info)"
   ]
  },
  {
   "cell_type": "code",
   "execution_count": 1656,
   "metadata": {},
   "outputs": [
    {
     "name": "stdout",
     "output_type": "stream",
     "text": [
      "Максимальный объем продаж на канале : vk\n"
     ]
    }
   ],
   "source": [
    "#Task_4\n",
    "stats = {'facebook': 55, 'yandex': 115, 'vk': 120, 'google': 99, 'email': 42, 'ok': 98}\n",
    "y=[]\n",
    "y.append(sorted(stats.items(),key=lambda kv: kv[1]))\n",
    "for z in y:\n",
    "    print(f'Максимальный объем продаж на канале : {z[-1][0]}')"
   ]
  },
  {
   "cell_type": "code",
   "execution_count": 2031,
   "metadata": {},
   "outputs": [
    {
     "name": "stdout",
     "output_type": "stream",
     "text": [
      "{'revenue': 103, 'cost': 98, 'ROI': 5.1}\n",
      "{'revenue': 103, 'cost': 98, 'ROI': 16.99}\n",
      "{'revenue': 103, 'cost': 98, 'ROI': -6.36}\n",
      "{'revenue': 103, 'cost': 98, 'ROI': 2.94}\n",
      "{'revenue': 103, 'cost': 98, 'ROI': -54.17}\n"
     ]
    }
   ],
   "source": [
    "#Task_3_new\n",
    "results = {\n",
    "'vk': {'revenue': 103, 'cost': 98},\n",
    "'yandex': {'revenue': 179, 'cost': 153},\n",
    "'facebook': {'revenue': 103, 'cost': 110},\n",
    "'adwords': {'revenue': 35, 'cost': 34},\n",
    "'twitter': {'revenue': 11, 'cost': 24},\n",
    "}\n",
    "\n",
    "r=[round((x['revenue']/(x['cost'])-1)*100,2) for x in results.values()]\n",
    "r\n",
    "for t in r:\n",
    "    for info in results.values():\n",
    "        info['ROI']=t\n",
    "        print(info)\n",
    "        break"
   ]
  },
  {
   "cell_type": "code",
   "execution_count": null,
   "metadata": {},
   "outputs": [],
   "source": []
  },
  {
   "cell_type": "code",
   "execution_count": null,
   "metadata": {},
   "outputs": [],
   "source": []
  }
 ],
 "metadata": {
  "kernelspec": {
   "display_name": "Python 3",
   "language": "python",
   "name": "python3"
  },
  "language_info": {
   "codemirror_mode": {
    "name": "ipython",
    "version": 3
   },
   "file_extension": ".py",
   "mimetype": "text/x-python",
   "name": "python",
   "nbconvert_exporter": "python",
   "pygments_lexer": "ipython3",
   "version": "3.8.5"
  }
 },
 "nbformat": 4,
 "nbformat_minor": 4
}
