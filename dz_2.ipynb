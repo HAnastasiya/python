{
 "cells": [
  {
   "cell_type": "code",
   "execution_count": 191,
   "metadata": {},
   "outputs": [
    {
     "name": "stdout",
     "output_type": "stream",
     "text": [
      "n a\n"
     ]
    }
   ],
   "source": [
    "word='destinatio'\n",
    "length=len(word)\n",
    "midl=int(len(word)/2)\n",
    "if (length %2) !=0:\n",
    "    print(word[midl])\n",
    "else: print (word[midl],word[midl+1])\n",
    "                 \n",
    "                  "
   ]
  },
  {
   "cell_type": "code",
   "execution_count": null,
   "metadata": {},
   "outputs": [],
   "source": []
  },
  {
   "cell_type": "code",
   "execution_count": 435,
   "metadata": {},
   "outputs": [
    {
     "name": "stdout",
     "output_type": "stream",
     "text": [
      "Введите число:6\n",
      "Введите число:5\n",
      "Введите число:6\n",
      "Введите число:0\n",
      "Сумма всех введенных чисел: 17\n"
     ]
    }
   ],
   "source": [
    "x=int(input('Введите число:'))\n",
    "summa = 0\n",
    "while x !=0:\n",
    "    summa +=x\n",
    "    x=int(input('Введите число:'))\n",
    "print ('Сумма всех введенных чисел:',summa)"
   ]
  },
  {
   "cell_type": "markdown",
   "metadata": {},
   "source": [
    "###### "
   ]
  },
  {
   "cell_type": "code",
   "execution_count": 25,
   "metadata": {},
   "outputs": [
    {
     "name": "stdout",
     "output_type": "stream",
     "text": [
      "('Alex', 'Emma')\n",
      "('Arthur', 'Kate')\n",
      "('John', 'Kira')\n",
      "('Peter', 'Liza')\n",
      "('Richard', 'Trisha')\n"
     ]
    }
   ],
   "source": [
    "boys = sorted(['Peter', 'Alex', 'John', 'Arthur', 'Richard'])\n",
    "girls = sorted(['Kate', 'Liza', 'Kira', 'Emma', 'Trisha'])\n",
    "if len(boys)==len(girls):\n",
    "    pairs=list(zip(boys,girls))\n",
    "    for y in pairs:\n",
    "        print (y)\n",
    "else: print('У кого-то может не хватить пары')\n",
    "    "
   ]
  },
  {
   "cell_type": "code",
   "execution_count": 188,
   "metadata": {},
   "outputs": [
    {
     "name": "stdout",
     "output_type": "stream",
     "text": [
      "Thailand 74.94285714285715\n",
      "Germany 56.839999999999996\n",
      "Russia 38.68571428571429\n",
      "Poland 53.6\n"
     ]
    }
   ],
   "source": [
    "    import math\n",
    "countries_temperature = [\n",
    "['Thailand', [75.2, 77, 78.8, 73.4, 68, 75.2, 77]],\n",
    "['Germany', [57.2, 55.4, 59, 59, 53.6]],\n",
    "['Russia', [35.6, 37.4, 39.2, 41, 42.8, 39.2, 35.6]],\n",
    "['Poland', [50, 50, 53.6, 57.2, 55.4, 55.4]]\n",
    "]\n",
    "    for c_t in countries_temperature:\n",
    "        avg=math.fsum(c_t[1])/len(c_t[1])\n",
    "        print(c_t[0],avg)\n",
    "        \n",
    "       \n",
    "       \n",
    "     \n",
    "   \n",
    "                \n",
    "\n",
    "    \n",
    "            \n"
   ]
  },
  {
   "cell_type": "code",
   "execution_count": 176,
   "metadata": {},
   "outputs": [
    {
     "name": "stdout",
     "output_type": "stream",
     "text": [
      "Thailand 74.94285714285715\n"
     ]
    }
   ],
   "source": [
    "    import math\n",
    "string_1=['Thailand',[75.2,77,78.8,73.4,68,75.2,77]]\n",
    "string_2=['Germany',[57.2,55.4,59,59,53.6]]\n",
    "string_3=['Russia',[35.6,37.4,39.2,41,42.8,39.2,35.6]]\n",
    "string_4=['Poland',[50,50,53.6,57.2,55.4,55.4]]\n",
    "    for c_t in string_1:\n",
    "        print(string_1[0],math.fsum(string_1[1])/len(string_1[1]))\n",
    "        break\n",
    "       "
   ]
  },
  {
   "cell_type": "code",
   "execution_count": 190,
   "metadata": {},
   "outputs": [
    {
     "name": "stdout",
     "output_type": "stream",
     "text": [
      "Thailand 74.94285714285714\n",
      "Germany 56.839999999999996\n",
      "Russia 38.68571428571429\n",
      "Poland 53.599999999999994\n"
     ]
    }
   ],
   "source": [
    "countries_temperature = [\n",
    "['Thailand', [75.2, 77, 78.8, 73.4, 68, 75.2, 77]],\n",
    "['Germany', [57.2, 55.4, 59, 59, 53.6]],\n",
    "['Russia', [35.6, 37.4, 39.2, 41, 42.8, 39.2, 35.6]],\n",
    "['Poland', [50, 50, 53.6, 57.2, 55.4, 55.4]]\n",
    "]\n",
    "for c_t in countries_temperature:\n",
    "    avg=sum(c_t[1])/len(c_t[1])\n",
    "    print(c_t[0],avg)"
   ]
  },
  {
   "cell_type": "code",
   "execution_count": null,
   "metadata": {},
   "outputs": [],
   "source": []
  }
 ],
 "metadata": {
  "kernelspec": {
   "display_name": "Python 3",
   "language": "python",
   "name": "python3"
  },
  "language_info": {
   "codemirror_mode": {
    "name": "ipython",
    "version": 3
   },
   "file_extension": ".py",
   "mimetype": "text/x-python",
   "name": "python",
   "nbconvert_exporter": "python",
   "pygments_lexer": "ipython3",
   "version": "3.8.5"
  }
 },
 "nbformat": 4,
 "nbformat_minor": 4
}
