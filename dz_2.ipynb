{
 "cells": [
  {
   "cell_type": "code",
   "execution_count": 86,
   "metadata": {},
   "outputs": [
    {
     "name": "stdout",
     "output_type": "stream",
     "text": [
      "11\n",
      "n\n"
     ]
    }
   ],
   "source": [
    "word='destination'\n",
    "length=len(word)\n",
    "midl=int(len(word)/2)\n",
    "midl_1=int(len(word)/2)\n",
    "print(length)\n",
    "if (length %2) !=0:\n",
    "    print(word[midl])\n",
    "else: print (word[midl_1])\n",
    "                 \n",
    "                  "
   ]
  },
  {
   "cell_type": "code",
   "execution_count": null,
   "metadata": {},
   "outputs": [],
   "source": []
  },
  {
   "cell_type": "code",
   "execution_count": 227,
   "metadata": {},
   "outputs": [
    {
     "name": "stdout",
     "output_type": "stream",
     "text": [
      "Введите число:5\n",
      "Введите число:4\n",
      "Введите число:0\n",
      "Сумма всех введенных чисел: 9\n"
     ]
    }
   ],
   "source": [
    "x=int(input('Введите число:'))\n",
    "sum = 0\n",
    "while x !=0:\n",
    "    sum += x\n",
    "       x=int(input('Введите число:'))\n",
    "print ('Сумма всех введенных чисел:',sum)\n"
   ]
  },
  {
   "cell_type": "markdown",
   "metadata": {},
   "source": [
    "## "
   ]
  },
  {
   "cell_type": "code",
   "execution_count": 239,
   "metadata": {},
   "outputs": [
    {
     "name": "stdout",
     "output_type": "stream",
     "text": [
      "Alex и Emma\n",
      "Arthur и Kate\n",
      "John и Kira\n",
      "Michael и Liza\n",
      "Peter и Trisha\n",
      "у Peter нет пары\n"
     ]
    }
   ],
   "source": [
    "boys = ['Peter', 'Alex', 'John', 'Arthur', 'Richard', 'Michael']\n",
    "girls = ['Kate', 'Liza', 'Kira', 'Emma', 'Trisha']\n",
    "boys_1=sorted (boys)\n",
    "girls_1=sorted (girls)\n",
    "print(boys_1[0]+' и '+girls_1[0])\n",
    "print(boys_1[1]+' и '+girls_1[1])\n",
    "print(boys_1[2]+' и '+girls_1[2])\n",
    "print(boys_1[3]+' и '+girls_1[3])\n",
    "print(boys_1[4]+' и '+girls_1[4])\n",
    "print('у '+boys_1[4]+' нет пары')"
   ]
  },
  {
   "cell_type": "code",
   "execution_count": 384,
   "metadata": {},
   "outputs": [
    {
     "name": "stdout",
     "output_type": "stream",
     "text": [
      "[57.2, 55.4, 59, 59, 53.6]\n",
      "[35.6, 37.4, 39.2, 41, 42.8, 39.2, 35.6]\n",
      "[50, 50, 53.6, 57.2, 55.4, 55.4]\n"
     ]
    }
   ],
   "source": [
    "string_1=['Thailand',[75.2,77,78.8,73.4,68,75.2,77]]\n",
    "string_2=['Germany',[57.2,55.4,59,59,53.6]]\n",
    "string_3=['Russia',[35.6,37.4,39.2,41,42.8,39.2,35.6]]\n",
    "string_4=['Poland',[50,50,53.6,57.2,55.4,55.4]]\n",
    "#string_5=float(string_1)\n",
    "#print(float(string_1[1]))\n",
    "print(string_2[1])\n",
    "print(string_3[1])\n",
    "print(string_4[1])\n",
    "\n",
    "\n",
    "#print(sum(temperature[1]))\n",
    "#print(country,sum(temperature[1]))\n",
    "#avg=(temperature[0]+temperature[1]+temperature[2]++temperature[3]+temperature[4]+temperature[5]+temperature[6])/len(temperature)\n",
    "#print (country,' - ',avg)\n",
    "\n"
   ]
  },
  {
   "cell_type": "code",
   "execution_count": null,
   "metadata": {},
   "outputs": [],
   "source": []
  },
  {
   "cell_type": "code",
   "execution_count": 242,
   "metadata": {},
   "outputs": [
    {
     "data": {
      "text/plain": [
       "2"
      ]
     },
     "execution_count": 242,
     "metadata": {},
     "output_type": "execute_result"
    }
   ],
   "source": [
    "2"
   ]
  },
  {
   "cell_type": "code",
   "execution_count": null,
   "metadata": {},
   "outputs": [],
   "source": []
  }
 ],
 "metadata": {
  "kernelspec": {
   "display_name": "Python 3",
   "language": "python",
   "name": "python3"
  },
  "language_info": {
   "codemirror_mode": {
    "name": "ipython",
    "version": 3
   },
   "file_extension": ".py",
   "mimetype": "text/x-python",
   "name": "python",
   "nbconvert_exporter": "python",
   "pygments_lexer": "ipython3",
   "version": "3.8.5"
  }
 },
 "nbformat": 4,
 "nbformat_minor": 4
}
