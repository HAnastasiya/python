{
 "cells": [
  {
   "cell_type": "code",
   "execution_count": null,
   "metadata": {},
   "outputs": [],
   "source": [
    "#ФУНКЦИИ. Задание №1."
   ]
  },
  {
   "cell_type": "code",
   "execution_count": 11,
   "metadata": {},
   "outputs": [],
   "source": [
    "#Документы\n",
    "documents = [\n",
    "{'type': 'passport', 'number': '2207 876234', 'name': 'Василий Гупкин'},\n",
    "{'type': 'invoice', 'number': '11-2', 'name': 'Геннадий Покемонов'},\n",
    "{'type': 'insurance', 'number': '10006', 'name': 'Аристарх Павлов'}\n",
    "]\n",
    "#Полки\n",
    "directories = {\n",
    "'1': ['2207 876234', '11-2'],\n",
    "'2': ['10006'],\n",
    "'3': []\n",
    "}\n",
    "\n"
   ]
  },
  {
   "cell_type": "code",
   "execution_count": 22,
   "metadata": {},
   "outputs": [
    {
     "name": "stdout",
     "output_type": "stream",
     "text": [
      "Введите номер документа 11-2\n"
     ]
    },
    {
     "data": {
      "text/plain": [
       "['Геннадий Покемонов']"
      ]
     },
     "execution_count": 22,
     "metadata": {},
     "output_type": "execute_result"
    }
   ],
   "source": [
    "#пункт_1\n",
    "def user_name(z,c):\n",
    "    \"\"\"\n",
    "    owner document\n",
    "    \"\"\" \n",
    "    b = input('Введите номер документа ')\n",
    "    z=[x['name'] for x in documents]\n",
    "    c=[x['number'] for x in documents]\n",
    "    d=[name for name,number in zip([x['name'] for x in documents],[x['number'] for x in documents]) if b == number]\n",
    "    return d\n",
    "user_name(z,c)\n"
   ]
  },
  {
   "cell_type": "code",
   "execution_count": 207,
   "metadata": {},
   "outputs": [
    {
     "name": "stdout",
     "output_type": "stream",
     "text": [
      "Введите номер документа 11-2\n",
      "Документ хранится на полке ['1']\n",
      "None\n"
     ]
    }
   ],
   "source": [
    "#пункт2\n",
    "def num_sfelf():\n",
    "    \"\"\"\n",
    "    number of shelf\n",
    "    \"\"\"\n",
    "    b = input('Введите номер документа ')\n",
    "    i=[f[0] for f in directories.items()if b in f[1]] #вывод полки по номеру документа\n",
    "    print(f'Документ хранится на полке {i}')\n",
    "print(num_sfelf())"
   ]
  },
  {
   "cell_type": "code",
   "execution_count": 70,
   "metadata": {},
   "outputs": [],
   "source": [
    "?user_name "
   ]
  },
  {
   "cell_type": "code",
   "execution_count": 41,
   "metadata": {},
   "outputs": [
    {
     "name": "stdout",
     "output_type": "stream",
     "text": [
      "Введите номер документа 11-2\n"
     ]
    },
    {
     "data": {
      "text/plain": [
       "\"Имя: ['Геннадий Покемонов'],номер документа: 11-2,полка хранения: ['1']\""
      ]
     },
     "execution_count": 41,
     "metadata": {},
     "output_type": "execute_result"
    }
   ],
   "source": [
    "#пункт_3\n",
    "def all_info(z,c):\n",
    "    \"\"\"\n",
    "    all info\n",
    "    \"\"\"\n",
    "    b = input('Введите номер документа ')\n",
    "    z=[name for name,number in zip(z,c) if b == number]\n",
    "    c=[number for name,number in zip(z,c) if b == number]\n",
    "    i=[f[0] for f in directories.items()if b in f[1]]\n",
    "    return f'Имя: {z},номер документа: {b},полка хранения: {i}'\n",
    "all_info(z,c)\n",
    "#print(f'Имя: {d},номер документа: {v},полка хранения: {i}') #вывод всей информации по номеру документа"
   ]
  },
  {
   "cell_type": "code",
   "execution_count": 194,
   "metadata": {},
   "outputs": [
    {
     "name": "stdout",
     "output_type": "stream",
     "text": [
      "Введите номер полки 5\n",
      "Полка №5 добавлена. Текущий перечень полок: dict_keys(['1', '2', '5'])\n"
     ]
    }
   ],
   "source": [
    "#пункт 4_Добавить полку\n",
    "def new_shelf():\n",
    "    \"\"\"\n",
    "    add new shelf\n",
    "    \"\"\" \n",
    "    j=input('Введите номер полки ')\n",
    "    e=directories.keys()\n",
    "    if j not in directories.keys():\n",
    "        directories.setdefault(j,[]) \n",
    "        print(f'Полка №{j} добавлена. Текущий перечень полок: {e}')\n",
    "    else:\n",
    "        print(f'Полка с таким номером уже существует')\n",
    "new_shelf()"
   ]
  },
  {
   "cell_type": "code",
   "execution_count": 193,
   "metadata": {},
   "outputs": [
    {
     "data": {
      "text/plain": [
       "{'1': ['2207 876234', '11-2'], '2': ['10006']}"
      ]
     },
     "execution_count": 193,
     "metadata": {},
     "output_type": "execute_result"
    }
   ],
   "source": [
    "del(directories['3'])\n",
    "directories"
   ]
  },
  {
   "cell_type": "code",
   "execution_count": 203,
   "metadata": {},
   "outputs": [
    {
     "data": {
      "text/plain": [
       "{'1': ['2207 876234', '11-2'], '2': ['10006']}"
      ]
     },
     "execution_count": 203,
     "metadata": {},
     "output_type": "execute_result"
    }
   ],
   "source": [
    "directories"
   ]
  },
  {
   "cell_type": "code",
   "execution_count": 201,
   "metadata": {},
   "outputs": [
    {
     "name": "stdout",
     "output_type": "stream",
     "text": [
      "Введите номер полки 6\n",
      "Полка удалена. Текущий перечень полок dict_keys(['1', '2', '5'])\n"
     ]
    }
   ],
   "source": [
    "#Пункт_5_удалить полку если она пустая\n",
    "\n",
    "def del_shelf():\n",
    "    \"\"\"\n",
    "    delete  shelf if number of doc=0\n",
    "    \"\"\" \n",
    "    j=input('Введите номер полки ')\n",
    "    if j not in directories.keys():\n",
    "        print(f'Полки с таким номером не существует.Текущий перечень полок {directories.keys()}')\n",
    "    elif j in directories.keys() and directories.get(j) == []:\n",
    "        del(directories[j])\n",
    "        print(f'Полка удалена. Текущий перечень полок {directories.keys()}')\n",
    "    else:   \n",
    "        print(f'На полке есть документы, удалите их перед удалением полки. Текущий перечень полок: {directories.keys()}')\n",
    "del_shelf()"
   ]
  },
  {
   "cell_type": "code",
   "execution_count": 188,
   "metadata": {},
   "outputs": [
    {
     "name": "stdout",
     "output_type": "stream",
     "text": [
      "{'1': ['2207 876234', '11-2'], '2': ['10006'], '3': 0}\n"
     ]
    }
   ],
   "source": [
    "#добавить в словарь пару \n",
    "directories.setdefault('2',10006)\n",
    "print(directories)"
   ]
  },
  {
   "cell_type": "code",
   "execution_count": 187,
   "metadata": {},
   "outputs": [
    {
     "name": "stdout",
     "output_type": "stream",
     "text": [
      "2207 876234\n",
      "11-2\n",
      "10006\n"
     ]
    },
    {
     "ename": "TypeError",
     "evalue": "'int' object is not iterable",
     "output_type": "error",
     "traceback": [
      "\u001b[1;31m---------------------------------------------------------------------------\u001b[0m",
      "\u001b[1;31mTypeError\u001b[0m                                 Traceback (most recent call last)",
      "\u001b[1;32m<ipython-input-187-f1cd1be01c61>\u001b[0m in \u001b[0;36m<module>\u001b[1;34m\u001b[0m\n\u001b[0;32m      4\u001b[0m \u001b[1;31m#print(f'Документ хранится на полке {i}')\u001b[0m\u001b[1;33m\u001b[0m\u001b[1;33m\u001b[0m\u001b[1;33m\u001b[0m\u001b[0m\n\u001b[0;32m      5\u001b[0m \u001b[1;32mfor\u001b[0m \u001b[0mf\u001b[0m \u001b[1;32min\u001b[0m \u001b[0mdirectories\u001b[0m\u001b[1;33m.\u001b[0m\u001b[0mvalues\u001b[0m\u001b[1;33m(\u001b[0m\u001b[1;33m)\u001b[0m\u001b[1;33m:\u001b[0m\u001b[1;33m\u001b[0m\u001b[1;33m\u001b[0m\u001b[0m\n\u001b[1;32m----> 6\u001b[1;33m     \u001b[1;32mfor\u001b[0m \u001b[0mg\u001b[0m \u001b[1;32min\u001b[0m \u001b[0mf\u001b[0m\u001b[1;33m:\u001b[0m\u001b[1;33m\u001b[0m\u001b[1;33m\u001b[0m\u001b[0m\n\u001b[0m\u001b[0;32m      7\u001b[0m         \u001b[0mprint\u001b[0m\u001b[1;33m(\u001b[0m\u001b[0mg\u001b[0m\u001b[1;33m)\u001b[0m\u001b[1;33m\u001b[0m\u001b[1;33m\u001b[0m\u001b[0m\n",
      "\u001b[1;31mTypeError\u001b[0m: 'int' object is not iterable"
     ]
    }
   ],
   "source": [
    "#Пункт_2\n",
    "#b = input('Введите номер документа ')\n",
    "#i=[f for f in directories.items()if b in f[1]] #вывод полки по номеру документа\n",
    "#print(f'Документ хранится на полке {i}')\n",
    "for f in directories.values():\n",
    "    for g in f:\n",
    "        print(g)"
   ]
  },
  {
   "cell_type": "code",
   "execution_count": 210,
   "metadata": {},
   "outputs": [
    {
     "name": "stdout",
     "output_type": "stream",
     "text": [
      "Введите команду p\n",
      "Введите номер документа 11-2\n",
      "['Геннадий Покемонов']\n",
      "Введите команду s\n",
      "Введите номер документа 10006\n",
      "Документ хранится на полке ['2']\n",
      "None\n",
      "Введите команду l\n",
      "Введите номер документа 11-2\n",
      "Имя: ['Геннадий Покемонов'],номер документа: 11-2,полка хранения: ['1']\n",
      "Введите команду as\n",
      "Введите номер полки 1\n",
      "Полка с таким номером уже существует\n",
      "None\n",
      "Введите команду as\n",
      "Введите номер полки 5\n",
      "Полка №5 добавлена. Текущий перечень полок: dict_keys(['1', '2', '5'])\n",
      "None\n",
      "Введите команду ds\n",
      "Введите номер полки 1\n",
      "На полке есть документы, удалите их перед удалением полки. Текущий перечень полок: dict_keys(['1', '2', '5'])\n",
      "Введите команду ds\n",
      "Введите номер полки 9\n",
      "Полки с таким номером не существует.Текущий перечень полок dict_keys(['1', '2', '5'])\n",
      "Введите команду ds\n",
      "Введите номер полки 5\n",
      "Полка удалена. Текущий перечень полок dict_keys(['1', '2'])\n",
      "Введите команду q\n"
     ]
    }
   ],
   "source": [
    "#Общее решение\n",
    "\n",
    "while True:\n",
    "    cmd=input('Введите команду ')\n",
    "    if cmd=='p':\n",
    "        print(user_name(z,c))#вывод имени по номеру документа\n",
    "    elif cmd == 's':\n",
    "        print(del_sfelf())\n",
    "    elif cmd == 'l':\n",
    "        print(all_info(z,c)) #вывод всей информации по номеру документа\n",
    "    elif cmd == 'as':\n",
    "        print(new_shelf()) #Добавление полки\n",
    "    elif cmd == 'ds':    #удалить полку если она пустая\n",
    "        del_shelf()\n",
    "    elif cmd=='q':\n",
    "        break\n",
    "        \n",
    "    \n",
    "\n",
    "       \n",
    "    \n",
    "        "
   ]
  },
  {
   "cell_type": "markdown",
   "metadata": {},
   "source": [
    " "
   ]
  }
 ],
 "metadata": {
  "kernelspec": {
   "display_name": "Python 3",
   "language": "python",
   "name": "python3"
  },
  "language_info": {
   "codemirror_mode": {
    "name": "ipython",
    "version": 3
   },
   "file_extension": ".py",
   "mimetype": "text/x-python",
   "name": "python",
   "nbconvert_exporter": "python",
   "pygments_lexer": "ipython3",
   "version": "3.8.5"
  }
 },
 "nbformat": 4,
 "nbformat_minor": 4
}
