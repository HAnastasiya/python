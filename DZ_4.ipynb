{
 "cells": [
  {
   "cell_type": "code",
   "execution_count": null,
   "metadata": {},
   "outputs": [],
   "source": [
    "#ФУНКЦИИ. Задание №1."
   ]
  },
  {
   "cell_type": "code",
   "execution_count": 14,
   "metadata": {},
   "outputs": [],
   "source": [
    "#Документы\n",
    "documents = [\n",
    "{'type': 'passport', 'number': '2207 876234', 'name': 'Василий Гупкин'},\n",
    "{'type': 'invoice', 'number': '11-2', 'name': 'Геннадий Покемонов'},\n",
    "{'type': 'insurance', 'number': '10006', 'name': 'Аристарх Павлов'}\n",
    "]\n",
    "#Полки\n",
    "directories = {\n",
    "'1': ['2207 876234', '11-2'],\n",
    "'2': ['10006'],\n",
    "'3': []\n",
    "}\n",
    "\n"
   ]
  },
  {
   "cell_type": "code",
   "execution_count": null,
   "metadata": {},
   "outputs": [],
   "source": [
    "#пункт_1\n",
    "def user_name():\n",
    "    \"\"\"\n",
    "    owner document\n",
    "    \"\"\" \n",
    "    b = input('Введите номер документа ')\n",
    "    z=[x['name'] for x in documents]\n",
    "    c=[x['number'] for x in documents]\n",
    "    d=[name for name,number in zip([x['name'] for x in documents],[x['number'] for x in documents]) if b == number]\n",
    "    if b in c:\n",
    "        return d\n",
    "    else:\n",
    "        return (f'Документа с таким номером не существует')\n",
    "\n",
    "user_name()\n",
    "\n"
   ]
  },
  {
   "cell_type": "code",
   "execution_count": null,
   "metadata": {},
   "outputs": [],
   "source": [
    "#пункт2\n",
    "def num_sfelf():\n",
    "    \"\"\"\n",
    "    number of shelf\n",
    "    \"\"\"\n",
    "    b = input('Введите номер документа ')\n",
    "    try:\n",
    "        f=[f[0] for f in directories.items() if b in f[1]]\n",
    "        return(f'Документ хранится на полке: {f[0]}')\n",
    "    except Exception:   \n",
    "        return(f'Документа с таким номером не существует')\n",
    "        \n",
    "    \n",
    "print(num_sfelf())"
   ]
  },
  {
   "cell_type": "code",
   "execution_count": null,
   "metadata": {},
   "outputs": [],
   "source": [
    "# пункт_3\n",
    "def all_info():\n",
    "    \"\"\"\n",
    "    all info\n",
    "    \"\"\"\n",
    "    b = input('Введите номер документа ')\n",
    "    z=[x['name'] for x in documents]\n",
    "    c=[x['number'] for x in documents]\n",
    "    i=[f[0] for f in directories.keys()]\n",
    "    if b in c:\n",
    "        return f'Имена: {z},номера документов: {c},полки хранения: {i}'\n",
    "    else:\n",
    "        return f'Документа с таким номером не существует'\n",
    "all_info()\n",
    "#print(f'Имя: {d},номер документа: {v},полка хранения: {i}') #вывод всей информации по номеру документа"
   ]
  },
  {
   "cell_type": "code",
   "execution_count": 7,
   "metadata": {},
   "outputs": [
    {
     "name": "stdout",
     "output_type": "stream",
     "text": [
      "Введите номер полки 10\n"
     ]
    },
    {
     "data": {
      "text/plain": [
       "'Полка №10 добавлена. Текущий перечень полок: 1,2,3,8,9,10'"
      ]
     },
     "execution_count": 7,
     "metadata": {},
     "output_type": "execute_result"
    }
   ],
   "source": [
    "# пункт 4_Добавить полку\n",
    "def new_shelf():\n",
    "    \"\"\"\n",
    "    add new shelf\n",
    "    \"\"\" \n",
    "    \n",
    "    b=input('Введите номер полки ')\n",
    "    e=[s for s in directories.keys()]\n",
    "    \n",
    "    if b not in directories.keys():\n",
    "        directories.setdefault(b,[]) \n",
    "        return (f'Полка №{b} добавлена. Текущий перечень полок: {\",\".join(e)},{b}')\n",
    "    else:\n",
    "        return (f'Полка с таким номером уже существует')\n",
    "new_shelf()"
   ]
  },
  {
   "cell_type": "code",
   "execution_count": null,
   "metadata": {},
   "outputs": [],
   "source": [
    "#Пункт_5_удалить полку если она пустая\n",
    "\n",
    "def del_shelf():\n",
    "    \"\"\"\n",
    "    delete  shelf if number of doc=0\n",
    "    \"\"\" \n",
    "    j=input('Введите номер полки ')\n",
    "    \n",
    "    y=[x[0] for x in directories.keys()]\n",
    "    if j not in directories.keys():\n",
    "        return(f'Полки с таким номером не существует.Текущий перечень полок {\",\".join(y)}')\n",
    "    elif j in directories.keys() and directories.get(j) == []:\n",
    "        del(directories[j])\n",
    "        return(f'Полка удалена. Текущий перечень полок {\",\".join(y)}')\n",
    "    else:   \n",
    "        return(f'На полке есть документы, удалите их перед удалением полки. Текущий перечень полок: {\",\".join(y)}')\n",
    "del_shelf()"
   ]
  },
  {
   "cell_type": "code",
   "execution_count": null,
   "metadata": {},
   "outputs": [],
   "source": [
    "#Общее решение\n",
    "\n",
    "def main():\n",
    "    while True:\n",
    "        cmd=input('Введите команду ')\n",
    "        if cmd=='p':\n",
    "            print(user_name())#вывод имени по номеру документа\n",
    "        elif cmd == 's':\n",
    "            print(num_sfelf())#вывод полки по номеру документа\n",
    "        elif cmd == 'l':\n",
    "            print(all_info()) #вывод всей информации по номеру документа\n",
    "        elif cmd == 'as':\n",
    "            print(new_shelf()) #Добавление полки\n",
    "        elif cmd == 'ds':    #удалить полку если она пустая\n",
    "            print(del_shelf())\n",
    "        elif cmd=='q':\n",
    "            break\n",
    "print(main())\n",
    "\n",
    "       \n",
    "    \n",
    "        "
   ]
  },
  {
   "cell_type": "code",
   "execution_count": 20,
   "metadata": {},
   "outputs": [
    {
     "name": "stdout",
     "output_type": "stream",
     "text": [
      "Введите команду p\n",
      "Введите номер документа 8\n",
      "Документа с таким номером не существует\n",
      "Введите команду p\n",
      "Введите номер документа 10006\n",
      "['Аристарх Павлов']\n",
      "Введите команду s\n",
      "Введите номер документа 6\n",
      "Документа с таким номером не существует\n",
      "Введите команду s\n",
      "Введите номер документа 11-2\n",
      "Документ хранится на полке: 1\n",
      "Введите команду l\n",
      "Введите номер документа 11-2\n",
      "Имена: ['Василий Гупкин', 'Геннадий Покемонов', 'Аристарх Павлов'],номера документов: ['2207 876234', '11-2', '10006'],полки хранения: ['1', '2', '3']\n",
      "Введите команду l\n",
      "Введите номер документа 8\n",
      "Документа с таким номером не существует\n",
      "Введите команду as\n",
      "Введите номер полки 5\n",
      "Полка №5 добавлена. Текущий перечень полок: 1,2,3,5\n",
      "Введите команду as\n",
      "Введите номер полки 1\n",
      "Полка с таким номером уже существует\n",
      "Введите команду ds\n",
      "Введите номер полки 7\n",
      "Полки с таким номером не существует.Текущий перечень полок 1,2,3,5\n",
      "Введите команду ds\n",
      "Введите номер полки 1\n",
      "На полке есть документы, удалите их перед удалением полки. Текущий перечень полок: 1,2,3,5\n",
      "Введите команду ds\n",
      "Введите номер полки 5\n",
      "Полка удалена. Текущий перечень полок 1,2,3,5\n",
      "Введите команду q\n"
     ]
    }
   ],
   "source": [
    "main()"
   ]
  },
  {
   "cell_type": "markdown",
   "metadata": {},
   "source": [
    " "
   ]
  }
 ],
 "metadata": {
  "kernelspec": {
   "display_name": "Python 3",
   "language": "python",
   "name": "python3"
  },
  "language_info": {
   "codemirror_mode": {
    "name": "ipython",
    "version": 3
   },
   "file_extension": ".py",
   "mimetype": "text/x-python",
   "name": "python",
   "nbconvert_exporter": "python",
   "pygments_lexer": "ipython3",
   "version": "3.8.5"
  }
 },
 "nbformat": 4,
 "nbformat_minor": 4
}
