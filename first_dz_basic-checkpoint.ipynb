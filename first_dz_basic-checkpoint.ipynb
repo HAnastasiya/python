{
 "cells": [
  {
   "cell_type": "code",
   "execution_count": 1,
   "metadata": {},
   "outputs": [
    {
     "name": "stdout",
     "output_type": "stream",
     "text": [
      "Фраза 1 больше фразы 2\n"
     ]
    }
   ],
   "source": [
    "phrase_1='Насколько проще было бы писать программы, если бы не заказчики'\n",
    "phrase_2='640Кб должно хватить для любых задач. Билл Гейтс (по легенде)'\n",
    "if len(phrase_1)>len(phrase_2): \n",
    "     print ('Фраза 1 больше фразы 2')\n"
   ]
  },
  {
   "cell_type": "code",
   "execution_count": 22,
   "metadata": {},
   "outputs": [
    {
     "name": "stdout",
     "output_type": "stream",
     "text": [
      "Фразы равной длины\n"
     ]
    }
   ],
   "source": [
    "phrase_1='Насколько проще было бы писать программы, если бы не заказчики'\n",
    "phrase_2='Насколько проще было бы писать программы, если бы не заказчики'\n",
    "if len(phrase_1)==len(phrase_2): \n",
    "     print ('Фразы равной длины')"
   ]
  },
  {
   "cell_type": "code",
   "execution_count": 24,
   "metadata": {},
   "outputs": [
    {
     "name": "stdout",
     "output_type": "stream",
     "text": [
      "Фраза 1 меньше фразы 2\n"
     ]
    }
   ],
   "source": [
    "phrase_1='640Кб должно хватить для любых задач. Билл Гейтс (по легенде)'\n",
    "phrase_2='Насколько проще было бы писать программы, если бы не заказчики'\n",
    "if len(phrase_1)<len(phrase_2): \n",
    "     print ('Фраза 1 меньше фразы 2')"
   ]
  },
  {
   "cell_type": "code",
   "execution_count": 34,
   "metadata": {},
   "outputs": [
    {
     "name": "stdout",
     "output_type": "stream",
     "text": [
      "обычный год\n"
     ]
    }
   ],
   "source": [
    "year=2023\n",
    "if year%4==0: print ('високосный год')\n",
    "else: print ('обычный год')"
   ]
  },
  {
   "cell_type": "code",
   "execution_count": 58,
   "metadata": {},
   "outputs": [
    {
     "name": "stdout",
     "output_type": "stream",
     "text": [
      "введите дату рождения:2\n",
      "введите месяц рождения6\n",
      "близнецы\n"
     ]
    }
   ],
   "source": [
    "date_birth=int(input('введите дату рождения:'))\n",
    "month_birth=int(input('введите месяц рождения'))\n",
    "\n",
    "\n",
    "if(date_birth>=21 and month_birth==3) or (date_birth<=21 and month_birth==4): \n",
    "    print('овен')\n",
    "elif(date_birth>=22 and month_birth==4) or (date_birth<=21 and month_birth==5): \n",
    "    print('телец')\n",
    "elif(date_birth>=22 and month_birth==5) or (date_birth<=21 and month_birth==6): \n",
    "    print('близнецы')\n",
    "elif(date_birth>=22 and month_birth==6) or (date_birth<=23 and month_birth==7): \n",
    "    print('рак')\n",
    "elif(date_birth>=23 and month_birth==7) or (date_birth<=22 and month_birth==8): \n",
    "    print('лев')\n",
    "elif(date_birth>=23 and month_birth==8) or (date_birth<=22 and month_birth==9): \n",
    "    print('дева')\n",
    "elif(date_birth>=23 and month_birth==9) or (date_birth<=22 and month_birth==10): \n",
    "    print('весы')\n",
    "elif(date_birth>=23 and month_birth==10) or (date_birth<=22 and month_birth==11): \n",
    "    print('скорпион')\n",
    "elif(date_birth>=23 and month_birth==11) or (date_birth<=21 and month_birth==12): \n",
    "    print('стрелец')\n",
    "elif(date_birth>=22 and month_birth==12) or (date_birth<=20 and month_birth==1): \n",
    "    print('козерог')\n",
    "elif(date_birth>=21 and month_birth==1) or (date_birth<=19 and month_birth==2): \n",
    "    print('водолей')\n",
    "elif(date_birth>=20 and month_birth==2) or (date_birth<=20 and month_birth==3): \n",
    "    print('рыбы')\n",
    "    \n",
    "   "
   ]
  },
  {
   "cell_type": "code",
   "execution_count": 4,
   "metadata": {},
   "outputs": [
    {
     "name": "stdout",
     "output_type": "stream",
     "text": [
      "введите ширину в см:20\n",
      "введите длину в см:30\n",
      "введите высоту в см:40\n",
      "Коробка №2\n"
     ]
    }
   ],
   "source": [
    "width = int(input('введите ширину в см:'))\n",
    "length = int(input('введите длину в см:'))\n",
    "height = int(input('введите высоту в см:'))\n",
    "\n",
    "if length>200:\n",
    "    print('Коробка для лыж')\n",
    "elif width<15 and length<15 and height<15:\n",
    "    print('Коробка №1') \n",
    "elif (width>15 and width <50) or (length>15 and lenght<50) or (height>15 and height<50):\n",
    "        print ('Коробка №2')\n",
    "else:\n",
    "    print('Стандартная коробка №3')        \n"
   ]
  },
  {
   "cell_type": "code",
   "execution_count": null,
   "metadata": {},
   "outputs": [],
   "source": []
  },
  {
   "cell_type": "markdown",
   "metadata": {},
   "source": [
    "## "
   ]
  },
  {
   "cell_type": "code",
   "execution_count": null,
   "metadata": {},
   "outputs": [],
   "source": []
  }
 ],
 "metadata": {
  "kernelspec": {
   "display_name": "Python 3",
   "language": "python",
   "name": "python3"
  },
  "language_info": {
   "codemirror_mode": {
    "name": "ipython",
    "version": 3
   },
   "file_extension": ".py",
   "mimetype": "text/x-python",
   "name": "python",
   "nbconvert_exporter": "python",
   "pygments_lexer": "ipython3",
   "version": "3.8.5"
  }
 },
 "nbformat": 4,
 "nbformat_minor": 4
}
